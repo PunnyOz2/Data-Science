{
  "cells": [
    {
      "cell_type": "markdown",
      "metadata": {
        "id": "OIom1X-v0TGc"
      },
      "source": [
        "# Assignment - Basic Pandas\n",
        "<sup>Created by Natawut Nupairoj, Department of Computer Engineering, Chulalongkorn University</sup>\n",
        "\n",
        "Using pandas to explore youtube trending data from GB (GBvideos.csv and GB_category_id.json) and answer the questions."
      ]
    },
    {
      "cell_type": "code",
      "execution_count": 1,
      "metadata": {
        "id": "_ooeQeBn0TGf"
      },
      "outputs": [],
      "source": [
        "import pandas as pd\n",
        "import numpy as np"
      ]
    },
    {
      "cell_type": "markdown",
      "metadata": {
        "id": "RNyAGpWT0TGh"
      },
      "source": [
        "To simplify data retrieval process on Colab, we heck if we are in the Colab environment and download data files from a shared drive and save them in folder \"data\".\n",
        "\n",
        "For those using jupyter notebook on the local computer, you can read data directly assuming you save data in the folder \"data\"."
      ]
    },
    {
      "cell_type": "code",
      "execution_count": 2,
      "metadata": {
        "colab": {
          "base_uri": "https://localhost:8080/"
        },
        "id": "qro_9JWV0TGi",
        "outputId": "3e7f5c45-98ec-4160-bcc1-1697a048d29b"
      },
      "outputs": [],
      "source": [
        "# import sys\n",
        "# IN_COLAB = 'google.colab' in sys.modules\n",
        "# if IN_COLAB:\n",
        "#     !wget https://github.com/kaopanboonyuen/2110446_DataScience_2021s2/raw/main/datasets/data.tgz -O data.tgz\n",
        "#     !tar -xzvf data.tgz"
      ]
    },
    {
      "cell_type": "markdown",
      "metadata": {
        "id": "rkNi2LHT0TGj"
      },
      "source": [
        "## How many rows are there in the GBvideos.csv after removing duplications?"
      ]
    },
    {
      "cell_type": "code",
      "execution_count": 8,
      "metadata": {
        "id": "PFzYyW7V0TGj"
      },
      "outputs": [
        {
          "name": "stdout",
          "output_type": "stream",
          "text": [
            "(38916, 16)\n",
            "(38745, 16)\n"
          ]
        }
      ],
      "source": [
        "gb_df = pd.read_csv('data/GBvideos.csv')\n",
        "# print(gb_df.shape)\n",
        "gb_df.drop_duplicates(inplace=True)\n",
        "print(gb_df.shape)"
      ]
    },
    {
      "cell_type": "code",
      "execution_count": 4,
      "metadata": {},
      "outputs": [],
      "source": [
        "# gb_df.head(1)"
      ]
    },
    {
      "cell_type": "markdown",
      "metadata": {
        "id": "mSc2U7HJ0TGk"
      },
      "source": [
        "## How many VDO's that contain at least one record (row) of \"dislikes\" more than \"likes\"?  <font color=red>DO NOT group by the data and make sure that you count only unique title!</font>"
      ]
    },
    {
      "cell_type": "code",
      "execution_count": 9,
      "metadata": {
        "id": "Q0NF1dI40TGk"
      },
      "outputs": [
        {
          "data": {
            "text/plain": [
              "56"
            ]
          },
          "execution_count": 9,
          "metadata": {},
          "output_type": "execute_result"
        }
      ],
      "source": [
        "# gb_df[gb_df['title'] == '#KIISCampus Surprise with BTS | On Air with Ryan Seacrest']\n",
        "len(gb_df[gb_df['likes']<gb_df['dislikes']]['title'].unique())"
      ]
    },
    {
      "cell_type": "markdown",
      "metadata": {
        "id": "oNxh-5CL0TGk"
      },
      "source": [
        "## How many VDO that are trending on 22 Jan 2018 with comments more than 10,000 comments?"
      ]
    },
    {
      "cell_type": "code",
      "execution_count": 101,
      "metadata": {
        "id": "07-y5sNw0TGl"
      },
      "outputs": [
        {
          "name": "stdout",
          "output_type": "stream",
          "text": [
            "28\n"
          ]
        }
      ],
      "source": [
        "gb_df['trending_dt'] = pd.to_datetime(gb_df.trending_date, format='%y.%d.%m', errors='ignore', utc=True)\n",
        "print(len(gb_df[(gb_df['trending_dt'] == '2018-01-22') & (gb_df['comment_count']>10000)]))\n",
        "# gb_df[(gb_df['trending_dt'] == '2018-01-22') & (gb_df['comment_count']>10000)].sort_values(by=['title'])"
      ]
    },
    {
      "cell_type": "markdown",
      "metadata": {
        "id": "jnBQwfD70TGl"
      },
      "source": [
        "## Which date that has the minimum average number of comments per VDO?"
      ]
    },
    {
      "cell_type": "code",
      "execution_count": 104,
      "metadata": {
        "id": "KIDZyavc0TGl"
      },
      "outputs": [
        {
          "data": {
            "text/plain": [
              "'17.15.11'"
            ]
          },
          "execution_count": 104,
          "metadata": {},
          "output_type": "execute_result"
        }
      ],
      "source": [
        "# gb_df.sort_values(by=['title','trending_date'], ascending=[True, True])\n",
        "# gb_df[['trending_dt', 'title', 'comment_count']]\n",
        "day_comment_sum = gb_df[['trending_date', 'comment_count']].groupby('trending_date').sum().reset_index()\n",
        "day_comment_sum[day_comment_sum['comment_count'] == day_comment_sum['comment_count'].min()]['trending_date'].iloc[0]\n",
        "# strftime = string format time ex. strftime('%Y-%m-%d')"
      ]
    },
    {
      "cell_type": "markdown",
      "metadata": {
        "id": "wL7iTiic0TGl"
      },
      "source": [
        "## Compare \"Sports\" and \"Comady\", how many days that there are more total daily views of VDO in \"Sports\" category than in \"Comady\" category?"
      ]
    },
    {
      "cell_type": "code",
      "execution_count": 46,
      "metadata": {
        "id": "UIzvYqdA0TGm"
      },
      "outputs": [],
      "source": [
        "import json\n",
        "with open('data/US_category_id.json') as fd:\n",
        "    cat = json.load(fd)\n",
        "# cat\n",
        "cat_list = []\n",
        "for d in cat['items']:\n",
        "    cat_list.append((d['id'], d['snippet']['title']))\n",
        "# cat_list\n",
        "cat_df = pd.DataFrame(cat_list, columns=['id', 'category'])\n",
        "# cat_df.dtypes\n",
        "cat_df['id'] = cat_df['id'].astype(int)\n",
        "# cat_df.dtypes\n",
        "vdo_df_withcat = gb_df.merge(cat_df, left_on='category_id', right_on='id')\n",
        "# vdo_df_withcat"
      ]
    },
    {
      "cell_type": "code",
      "execution_count": 100,
      "metadata": {},
      "outputs": [
        {
          "name": "stdout",
          "output_type": "stream",
          "text": [
            "49\n"
          ]
        }
      ],
      "source": [
        "# print(vdo_df_withcat['trending_date'])\n",
        "comedy_views = vdo_df_withcat[['trending_dt', 'views']][vdo_df_withcat['category'] == 'Comedy'].groupby(['trending_dt']).sum()\n",
        "comedy_views.reset_index(inplace=True)\n",
        "comedy_views.rename(columns={'views': 'c_views'}, inplace=True)\n",
        "# comedy_views.loc[-1] = [pd.to_datetime('16.14.11', format='%y.%d.%m', errors='ignore', utc=True), 1]  # adding a row\n",
        "# comedy_views.index = comedy_views.index + 1  # shifting index\n",
        "# comedy_views = comedy_views.sort_index()  # sorting by index\n",
        "# print(comedy_views.dtypes)\n",
        "sports_views = vdo_df_withcat[['trending_dt', 'views']][vdo_df_withcat['category'] == 'Sports'].groupby(['trending_dt']).sum()\n",
        "sports_views.reset_index(inplace=True)\n",
        "sports_views.rename(columns={'views': 's_views'}, inplace=True)\n",
        "# print(sports_views.dtypes)\n",
        "merged_df = comedy_views.merge(sports_views, on='trending_dt', how='outer')\n",
        "merged_df.fillna({'c_views': 0, 's_views': 0}, inplace=True)\n",
        "merged_df = merged_df.astype({'c_views': int, 's_views': int})\n",
        "# print(merged_df.dtypes)\n",
        "print((merged_df['s_views'] > merged_df['c_views']).sum())"
      ]
    }
  ],
  "metadata": {
    "colab": {
      "provenance": []
    },
    "kernelspec": {
      "display_name": "Python 3 (ipykernel)",
      "language": "python",
      "name": "python3"
    },
    "language_info": {
      "codemirror_mode": {
        "name": "ipython",
        "version": 3
      },
      "file_extension": ".py",
      "mimetype": "text/x-python",
      "name": "python",
      "nbconvert_exporter": "python",
      "pygments_lexer": "ipython3",
      "version": "3.9.0"
    },
    "toc": {
      "base_numbering": 1,
      "nav_menu": {},
      "number_sections": true,
      "sideBar": true,
      "skip_h1_title": false,
      "title_cell": "Table of Contents",
      "title_sidebar": "Contents",
      "toc_cell": false,
      "toc_position": {},
      "toc_section_display": true,
      "toc_window_display": false
    },
    "varInspector": {
      "cols": {
        "lenName": 16,
        "lenType": 16,
        "lenVar": 40
      },
      "kernels_config": {
        "python": {
          "delete_cmd_postfix": "",
          "delete_cmd_prefix": "del ",
          "library": "var_list.py",
          "varRefreshCmd": "print(var_dic_list())"
        },
        "r": {
          "delete_cmd_postfix": ") ",
          "delete_cmd_prefix": "rm(",
          "library": "var_list.r",
          "varRefreshCmd": "cat(var_dic_list()) "
        }
      },
      "types_to_exclude": [
        "module",
        "function",
        "builtin_function_or_method",
        "instance",
        "_Feature"
      ],
      "window_display": false
    }
  },
  "nbformat": 4,
  "nbformat_minor": 0
}
